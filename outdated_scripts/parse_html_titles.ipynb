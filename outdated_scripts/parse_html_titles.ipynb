{
 "cells": [
  {
   "cell_type": "code",
   "execution_count": 2,
   "metadata": {
    "collapsed": false
   },
   "outputs": [
    {
     "name": "stdout",
     "output_type": "stream",
     "text": [
      "urls to be parsed: ('www.yandex.ru', '', '', '', '', '')\n",
      "\n",
      "got titles: ['Яндекс', 'couldnt get page', 'couldnt get page', 'couldnt get page', 'couldnt get page', 'couldnt get page']\n"
     ]
    }
   ],
   "source": [
    "# name: parse_html_titles\n",
    "# author: Smirnov Kirill\n",
    "# revision: 1.0\n",
    "# revision date: 17.10.2016\n",
    "# description: opens ods_file, finds urls through column, check if\n",
    "#              web_page answers, gets its title and puts it to next column\n",
    "\n",
    "\n",
    "# todo: open tty and start softoffice by itself\n",
    "  #this way don't work: os.system(\"gnome-terminal -e 'bash -c soffice --accept=\\\"socket,host=localhost,port=2002;urp;\\\" --norestore --nologo --nodefault --headless'\")\n",
    "# todo: count rows by itself\n",
    "# todo: open file with password\n",
    "# todo: correct parse facebook non-unicode symbols\n",
    "\n",
    "\n",
    "import requests\n",
    "from lxml import html\n",
    "from tqdm import tnrange\n",
    "# https://github.com/seznam/pyoo\n",
    "import pyoo\n",
    "# to work witth pyoo, you should start its interface in tty:\n",
    "# soffice --accept=\"socket,host=localhost,port=2002;urp;\" --norestore --nologo --nodefault # --headless\n",
    "\n",
    "\n",
    "# config\n",
    "file_name = 'test_titles.ods'\n",
    "length = 6  # number of rows in file\n",
    "\n",
    "\n",
    "def get_urls(sheet):\n",
    "    urls = sheet[0:length, 0].values\n",
    "    print ('urls to be parsed:', urls)\n",
    "    return urls\n",
    "\n",
    "\n",
    "def check_url(url):\n",
    "    if url.startswith('http'):\n",
    "        url = url\n",
    "    else:\n",
    "        url = 'http://' + url\n",
    "    return url\n",
    "\n",
    "\n",
    "def get_page(url):\n",
    "    try:\n",
    "        html_page = requests.get(url)\n",
    "    except:\n",
    "        html_page = ''\n",
    "    return html_page\n",
    "\n",
    "\n",
    "def get_title(html_page):\n",
    "    try:\n",
    "        html_tree = html.fromstring(html_page.text)\n",
    "        html_title = html_tree.xpath('//title/text()')[0]\n",
    "    except:\n",
    "        html_title = 'couldnt get page'\n",
    "    return html_title\n",
    "\n",
    "\n",
    "def parse_title(url_list):\n",
    "    html_titles = []\n",
    "    for i in tnrange(0, len(url_list), desc='parsing titles'):\n",
    "        url = check_url(url_list[i])\n",
    "        html_page = get_page(url)\n",
    "        html_title = get_title(html_page)\n",
    "        html_titles.append(html_title)\n",
    "    print ('got titles:', html_titles)\n",
    "    return (html_titles)\n",
    "\n",
    "\n",
    "def write_titles(html_titles, sheet):\n",
    "    sheet[0:length, 1].values = html_titles\n",
    "\n",
    "\n",
    "desktop = pyoo.Desktop('localhost', 2002)\n",
    "doc = desktop.open_spreadsheet(file_name)\n",
    "sheet = doc.sheets[0]\n",
    "urls = get_urls(sheet)\n",
    "html_titles = parse_title(urls)\n",
    "write_titles(html_titles, sheet)\n",
    "doc.save()\n",
    "doc.close()\n"
   ]
  }
 ],
 "metadata": {
  "kernelspec": {
   "display_name": "Python 3",
   "language": "python",
   "name": "python3"
  },
  "language_info": {
   "codemirror_mode": {
    "name": "ipython",
    "version": 3
   },
   "file_extension": ".py",
   "mimetype": "text/x-python",
   "name": "python",
   "nbconvert_exporter": "python",
   "pygments_lexer": "ipython3",
   "version": "3.5.1"
  }
 },
 "nbformat": 4,
 "nbformat_minor": 0
}
