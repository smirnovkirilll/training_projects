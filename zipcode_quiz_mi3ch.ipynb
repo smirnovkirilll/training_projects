{
 "cells": [
  {
   "cell_type": "code",
   "execution_count": 3,
   "metadata": {
    "collapsed": false
   },
   "outputs": [
    {
     "name": "stdout",
     "output_type": "stream",
     "text": [
      "preparing list of candidates to check...\n",
      "1 loop, best of 1: 354 ms per loop\n",
      "checking1...\n",
      "the quizze answer1:  381654729\n",
      "the quizze answer1:  381654729\n",
      "\n",
      "the quizze answer1:  381654729\n",
      "the quizze answer1:  381654729\n",
      "\n",
      "1 loop, best of 1: 1.42 s per loop\n",
      "checking2...\n",
      "the quizze answer2:  381654729\n",
      "the quizze answer2:  381654729\n",
      "\n",
      "the quizze answer2:  381654729\n",
      "the quizze answer2:  381654729\n",
      "\n",
      "1 loop, best of 1: 1.69 s per loop\n"
     ]
    }
   ],
   "source": [
    "# name: zip_code_quiz\n",
    "# author: Smirnov Kirill\n",
    "# revision: 1.5\n",
    "# revision date: 17.10.2016\n",
    "# description: solution of quiz http://mi3ch.livejournal.com/3395600.html\n",
    "\n",
    "\n",
    "from tqdm import tnrange, tqdm_notebook\n",
    "import itertools\n",
    "thin_list = []  # default\n",
    "\n",
    "\n",
    "# preparing list of strings with all combinations of permutated digits\n",
    "def make_check_list():\n",
    "    fat_list = tuple(itertools.permutations(['1', '2', '3', '4', '5', '6', '7', '8', '9']))\n",
    "    for list_candidate in fat_list:\n",
    "        str_candidate_dirty = ', '.join(list_candidate)\n",
    "        str_candidate = str_candidate_dirty.replace(', ', '')\n",
    "        thin_list.append(str_candidate)\n",
    "    return thin_list\n",
    "\n",
    "\n",
    "# simpler to read function\n",
    "def check_divisibility1(str_candidate):\n",
    "    a = int(str_candidate)\n",
    "    a1 = a // 10000000\n",
    "    a2 = a // 1000000\n",
    "    a3 = a // 100000\n",
    "    a4 = a // 10000\n",
    "    a5 = a // 1000\n",
    "    a6 = a // 100\n",
    "    a7 = a // 10\n",
    "    a8 = a\n",
    "    if (a1 % 2 == 0 and a2 % 3 == 0 and a3 % 4 == 0 and a4 % 5 == 0 and \\\n",
    "        a5 % 6 == 0 and a6 % 7 == 0 and a7 % 8 == 0 and a8 % 9 == 0):\n",
    "        print ('the quizze answer1: ', a)\n",
    "\n",
    "\n",
    "# it should be faster, but no (and looks dirtier)\n",
    "def check_divisibility2(str_candidate):\n",
    "    a = str_candidate\n",
    "    if ( \\\n",
    "    int(a[0] + a[1]) % 2 == 0 and \\\n",
    "    int(a[0] + a[1] + a[2]) % 3 == 0 and \\\n",
    "    int(a[0] + a[1] + a[2] + a[3]) % 4 == 0 and \\\n",
    "    int(a[0] + a[1] + a[2] + a[3] + a[4]) % 5 == 0 and \\\n",
    "    int(a[0] + a[1] + a[2] + a[3] + a[4] + a[5]) % 6 == 0 and \\\n",
    "    int(a[0] + a[1] + a[2] + a[3] + a[4] + a[5] + a[6]) % 7 == 0 and \\\n",
    "    int(a[0] + a[1] + a[2] + a[3] + a[4] + a[5] + a[6] + a[7]) % 8 == 0 and \\\n",
    "    int(a[0] + a[1] + a[2] + a[3] + a[4] + a[5] + a[6] + a[7] + a[8]) % 9 == 0):\n",
    "        print ('the quizze answer2: ', int(a))\n",
    "\n",
    "\n",
    "def check1():\n",
    "    for i in tnrange(0, len(thin_list), desc='check1'):\n",
    "        check_divisibility1(thin_list[i])\n",
    "\n",
    "\n",
    "def check2():\n",
    "    for i in tnrange(0, len(thin_list), desc='check2'):\n",
    "        check_divisibility2(thin_list[i])\n",
    "\n",
    "\n",
    "print (\"preparing list of candidates to check...\")\n",
    "%timeit -r1 thin_list = make_check_list()\n",
    "print (\"checking1...\")\n",
    "%timeit -r1 check1()\n",
    "print (\"checking2...\")\n",
    "%timeit -r1 check2()\n"
   ]
  }
 ],
 "metadata": {
  "kernelspec": {
   "display_name": "Python 3",
   "language": "python",
   "name": "python3"
  },
  "language_info": {
   "codemirror_mode": {
    "name": "ipython",
    "version": 3
   },
   "file_extension": ".py",
   "mimetype": "text/x-python",
   "name": "python",
   "nbconvert_exporter": "python",
   "pygments_lexer": "ipython3",
   "version": "3.5.1"
  }
 },
 "nbformat": 4,
 "nbformat_minor": 0
}
