{
 "cells": [
  {
   "cell_type": "code",
   "execution_count": 2,
   "metadata": {
    "collapsed": false
   },
   "outputs": [
    {
     "name": "stdout",
     "output_type": "stream",
     "text": [
      "the quizze answer:  381654729\n",
      "\n",
      "the quizze answer:  381654729\n",
      "\n"
     ]
    }
   ],
   "source": [
    "#name: zip_code_quiz\n",
    "#author: Smirnov Kirill\n",
    "#revision: 1.2\n",
    "#revision date: 09.07.2016\n",
    "#description: this is solution of quiz:\n",
    "#http://mi3ch.livejournal.com/3395600.html\n",
    "\n",
    "\n",
    "from tqdm import tnrange, tqdm_notebook\n",
    "import itertools\n",
    "\n",
    "\n",
    "#simpler to read function\n",
    "def check_division(list_candidate):\n",
    "    str_candidate = ', '.join(list_candidate)\n",
    "    str_candidate2 = str_candidate.replace(', ', '')\n",
    "    a = int(str_candidate2)    \n",
    "    a1 = a // 10000000\n",
    "    a2 = a // 1000000\n",
    "    a3 = a // 100000\n",
    "    a4 = a // 10000\n",
    "    a5 = a // 1000\n",
    "    a6 = a // 100\n",
    "    a7 = a // 10\n",
    "    a8 = a\n",
    "    if (a1%2==0 and a2%3==0 and a3%4==0 and a4%5==0 and a5%6==0 and a6%7==0 and a7%8==0 and a8%9==0):\n",
    "        print ('the quizze answer: ', a)\n",
    "\n",
    "#thought, this function would be faster (but, no)\n",
    "def check_divisibility(a):\n",
    "    if ( \\\n",
    "    int (a[0] + a[1]) %2 == 0 and \\\n",
    "    int (a[0] + a[1] + a[2]) %3 == 0 and \\\n",
    "    int (a[0] + a[1] + a[2] + a[3]) %4 == 0 and \\\n",
    "    int (a[0] + a[1] + a[2] + a[3] + a[4]) %5 == 0 and \\\n",
    "    int (a[0] + a[1] + a[2] + a[3] + a[4] + a[5]) %6 == 0 and \\\n",
    "    int (a[0] + a[1] + a[2] + a[3] + a[4] + a[5] + a[6]) %7 == 0 and \\\n",
    "    int (a[0] + a[1] + a[2] + a[3] + a[4] + a[5] + a[6] + a[7]) %8 == 0 and \\\n",
    "    int (a[0] + a[1] + a[2] + a[3] + a[4] + a[5] + a[6] + a[7] + a[8]) %9 == 0 ):\n",
    "        print ('the quizze answer2: ', a)        \n",
    "\n",
    "\n",
    "fat_object = itertools.permutations(['1','2','3','4','5','6','7','8','9'])\n",
    "fat_list = list(fat_object)\n",
    "for i in tnrange (0, len(fat_list), desc='looking through1'):\n",
    "    check_division (fat_list[i])\n",
    "for i in tnrange (0, len(fat_list), desc='looking through2'):\n",
    "    check_division (fat_list[i])"
   ]
  }
 ],
 "metadata": {
  "kernelspec": {
   "display_name": "Python 3",
   "language": "python",
   "name": "python3"
  },
  "language_info": {
   "codemirror_mode": {
    "name": "ipython",
    "version": 3
   },
   "file_extension": ".py",
   "mimetype": "text/x-python",
   "name": "python",
   "nbconvert_exporter": "python",
   "pygments_lexer": "ipython3",
   "version": "3.4.2"
  }
 },
 "nbformat": 4,
 "nbformat_minor": 0
}
